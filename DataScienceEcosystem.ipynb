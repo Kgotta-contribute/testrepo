{
 "cells": [
  {
   "cell_type": "markdown",
   "id": "117612f7",
   "metadata": {},
   "source": [
    "# DATA SCIENCE TOOLS AND ECOSYSTEM\n",
    "\n"
   ]
  },
  {
   "cell_type": "markdown",
   "id": "7f270399",
   "metadata": {},
   "source": [
    "### Here, in this notebook we are going to summarize the topic:\n",
    "> \"Data Science Tools & Ecosystem\""
   ]
  },
  {
   "cell_type": "markdown",
   "id": "b04be9c0",
   "metadata": {},
   "source": [
    "**Some of the popular languages that Data Scientists use are:**\n",
    ">1.   Python: It is one of the most popular programming languages for data science due to its simplicity, ease of use, and large number of available libraries and frameworks such as NumPy, Pandas, Matplotlib, TensorFlow, and PyTorch.\n",
    "2.R: R is a language specifically designed for statistical computing and graphics. It is widely used in the field of data science and has a large number of libraries for data manipulation, visualization, and machine learning, such as ggplot2, dplyr, and caret.\n",
    "3.SQL: Structured Query Language (SQL) is used for managing and querying relational databases, which are used to store and organize large amounts of data.\n",
    "4.Java: Java is a popular general-purpose programming language that is widely used in the enterprise environment. It is used in data science for large-scale distributed computing, machine learning algorithms, and data processing.\n",
    "5.Scala: Scala is a functional programming language that runs on the Java Virtual Machine (JVM). It is widely used in big data processing frameworks such as Apache Spark due to its ability to handle large-scale data processing and parallelism.\n",
    "6.Julia: Julia is a high-level programming language designed specifically for numerical and scientific computing. It has gained popularity among data scientists due to its speed, ease of use, and built-in support for distributed computing."
   ]
  },
  {
   "cell_type": "markdown",
   "id": "5bca753f",
   "metadata": {},
   "source": [
    "**Some of the commonly used libraries used by Data Scientists include:**\n",
    "1. NumPy:  \n",
    ">NumPy is a Python library for scientific computing. \n",
    "2. Pandas:  \n",
    ">Pandas is a Python library for data manipulation and analysis. \n",
    "3. Matplotlib:  \n",
    ">Matplotlib is a Python library for creating static, animated, and interactive visualizations in Python\n",
    "4. Scikit-learn:  \n",
    ">Scikit-learn is a Python library for machine learning.\n",
    "5. TensorFlow:  \n",
    ">TensorFlow is a Python library for building and training deep learning models. \n",
    "6. PyTorch:  \n",
    ">PyTorch is a Python library for building and training deep learning models. \n",
    "7. Keras:  \n",
    ">Keras is a high-level Python library for building and training neural networks. \n",
    "8. Seaborn:  \n",
    ">Seaborn is a Python library for creating statistical visualizations. "
   ]
  },
  {
   "cell_type": "markdown",
   "id": "a9a6614a",
   "metadata": {},
   "source": [
    "### Below are a few examples of evaluating arithmetic expressions in Python"
   ]
  },
  {
   "cell_type": "code",
   "execution_count": 4,
   "id": "4dc3baf1",
   "metadata": {},
   "outputs": [
    {
     "data": {
      "text/plain": [
       "1.4142135623730951"
      ]
     },
     "execution_count": 4,
     "metadata": {},
     "output_type": "execute_result"
    }
   ],
   "source": [
    "2**0.5"
   ]
  },
  {
   "cell_type": "code",
   "execution_count": 5,
   "id": "bf5bce46",
   "metadata": {},
   "outputs": [
    {
     "data": {
      "text/plain": [
       "17"
      ]
     },
     "execution_count": 5,
     "metadata": {},
     "output_type": "execute_result"
    }
   ],
   "source": [
    "# This a simple arithmetic expression to mutiply then add integers.\n",
    "(3*4)+5"
   ]
  },
  {
   "cell_type": "code",
   "execution_count": 7,
   "id": "d713ee76",
   "metadata": {},
   "outputs": [
    {
     "data": {
      "text/plain": [
       "3.3333333333333335"
      ]
     },
     "execution_count": 7,
     "metadata": {},
     "output_type": "execute_result"
    }
   ],
   "source": [
    "# This will convert 200 minutes to hours by diving by 60.\n",
    "minutes = 200\n",
    "hours = minutes/60\n",
    "hours"
   ]
  },
  {
   "cell_type": "markdown",
   "id": "aca60b9b",
   "metadata": {},
   "source": [
    "### **Objectives:**\n",
    "-------------------------- Some of the popular Data Science tools that we learned about are: \n",
    " 1. Python\n",
    " 2. R\n",
    " 3. Scala\n",
    " 4. Julia\n",
    " 5. Java\n",
    " 6. SQL"
   ]
  },
  {
   "cell_type": "markdown",
   "id": "40bd1e94",
   "metadata": {},
   "source": [
    "## AUTHOR\n",
    "CHHAVI"
   ]
  },
  {
   "cell_type": "code",
   "execution_count": null,
   "id": "be2c5034",
   "metadata": {},
   "outputs": [],
   "source": []
  }
 ],
 "metadata": {
  "kernelspec": {
   "display_name": "Python 3",
   "language": "python",
   "name": "python3"
  },
  "language_info": {
   "codemirror_mode": {
    "name": "ipython",
    "version": 3
   },
   "file_extension": ".py",
   "mimetype": "text/x-python",
   "name": "python",
   "nbconvert_exporter": "python",
   "pygments_lexer": "ipython3",
   "version": "3.8.8"
  }
 },
 "nbformat": 4,
 "nbformat_minor": 5
}
