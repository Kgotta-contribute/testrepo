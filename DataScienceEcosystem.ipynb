{
 "cells": [
  {
   "cell_type": "markdown",
   "id": "c0721289",
   "metadata": {},
   "source": [
    "# DATA SCIENCE TOOLS AND ECOSYSTEM\n",
    "\n"
   ]
  },
  {
   "cell_type": "markdown",
   "id": "60ee1705",
   "metadata": {},
   "source": [
    "### Here, in this notebook we are going to summarize the topic:\n",
    "> \"Data Science Tools & Ecosystem\""
   ]
  },
  {
   "cell_type": "markdown",
   "id": "ed6d2419",
   "metadata": {},
   "source": [
    "**Some of the popular languages that Data Scientists use are:**\n",
    ">1.   Python: It is one of the most popular programming languages for data science due to its simplicity, ease of use, and large number of available libraries and frameworks such as NumPy, Pandas, Matplotlib, TensorFlow, and PyTorch.\n",
    "2.R: R is a language specifically designed for statistical computing and graphics. It is widely used in the field of data science and has a large number of libraries for data manipulation, visualization, and machine learning, such as ggplot2, dplyr, and caret.\n",
    "3.SQL: Structured Query Language (SQL) is used for managing and querying relational databases, which are used to store and organize large amounts of data.\n",
    "4.Java: Java is a popular general-purpose programming language that is widely used in the enterprise environment. It is used in data science for large-scale distributed computing, machine learning algorithms, and data processing.\n",
    "5.Scala: Scala is a functional programming language that runs on the Java Virtual Machine (JVM). It is widely used in big data processing frameworks such as Apache Spark due to its ability to handle large-scale data processing and parallelism.\n",
    "6.Julia: Julia is a high-level programming language designed specifically for numerical and scientific computing. It has gained popularity among data scientists due to its speed, ease of use, and built-in support for distributed computing."
   ]
  },
  {
   "cell_type": "markdown",
   "id": "be68cb95",
   "metadata": {},
   "source": [
    "**Some of the commonly used libraries used by Data Scientists include:**\n",
    "1. NumPy:  \n",
    ">NumPy is a Python library for scientific computing. \n",
    "2. Pandas:  \n",
    ">Pandas is a Python library for data manipulation and analysis. \n",
    "3. Matplotlib:  \n",
    ">Matplotlib is a Python library for creating static, animated, and interactive visualizations in Python\n",
    "4. Scikit-learn:  \n",
    ">Scikit-learn is a Python library for machine learning.\n",
    "5. TensorFlow:  \n",
    ">TensorFlow is a Python library for building and training deep learning models. \n",
    "6. PyTorch:  \n",
    ">PyTorch is a Python library for building and training deep learning models. \n",
    "7. Keras:  \n",
    ">Keras is a high-level Python library for building and training neural networks. \n",
    "8. Seaborn:  \n",
    ">Seaborn is a Python library for creating statistical visualizations. "
   ]
  },
  {
   "cell_type": "markdown",
   "id": "ed33626e",
   "metadata": {},
   "source": [
    "## Data Science Tools\n",
    "\n",
    "\n",
    "|TOOL              |           DESCRIPTION                                        |\n",
    "|---------------------|----------------------------------------------------|\n",
    "|  Python -\t           |programming language for data science|\n",
    "|R -                   |        A language for statistical computing & graphics|\n",
    "|SQL\t       -    |A language for managing relational databases|\n",
    "| Excel\t        -   |A spreadsheet software for data manipulation and analysis|\n",
    "|Tableau\t     - | A data visualization software|\n",
    "|Power BI\t      - |A business analytics service by Microsoft|\n",
    "|Jupyter\t       -|An open-source webApp for interactive & scientific computing|\n",
    "|Pandas\t        -   |A Python library for data manipulation & analysis|\n",
    "| NumPy\t       -    |A Python library for scientific computing with arrays|\n",
    "|Scikit-learn\t-   |A Python library for machine learning|\n",
    "\n",
    "\n"
   ]
  },
  {
   "cell_type": "markdown",
   "id": "a6ad31e3",
   "metadata": {},
   "source": [
    "### Below are a few examples of evaluating arithmetic expressions in Python"
   ]
  },
  {
   "cell_type": "code",
   "execution_count": 5,
   "id": "d18d63fe",
   "metadata": {},
   "outputs": [
    {
     "data": {
      "text/plain": [
       "17"
      ]
     },
     "execution_count": 5,
     "metadata": {},
     "output_type": "execute_result"
    }
   ],
   "source": [
    "# This a simple arithmetic expression to mutiply then add integers.\n",
    "(3*4)+5"
   ]
  },
  {
   "cell_type": "code",
   "execution_count": 9,
   "id": "3a19b780",
   "metadata": {},
   "outputs": [
    {
     "name": "stdout",
     "output_type": "stream",
     "text": [
      "3.3333333333333335\n"
     ]
    }
   ],
   "source": [
    "# This will convert 200 minutes to hours by diving by 60.\n",
    "minutes = 200\n",
    "hours = minutes/60\n",
    "\n",
    "print(hours)"
   ]
  },
  {
   "cell_type": "code",
   "execution_count": 10,
   "id": "b3061afa",
   "metadata": {},
   "outputs": [
    {
     "data": {
      "text/plain": [
       "1.4142135623730951"
      ]
     },
     "execution_count": 10,
     "metadata": {},
     "output_type": "execute_result"
    }
   ],
   "source": [
    "2**0.5"
   ]
  },
  {
   "cell_type": "markdown",
   "id": "9b98f47e",
   "metadata": {},
   "source": [
    "### **Objectives:**\n",
    "--------------WE LEARNED ABOUT HOW TO--------------------\n",
    "1. List popular languages for Data Science\n",
    "2. Introduce commonly used libraries in Data Science\n",
    "3. Provide overview of various Data Science tools\n",
    "4. Explain the use of Jupyter for interactive and scientific computing\n",
    "5. Show examples of evaluating arithmetic expressions in Python"
   ]
  },
  {
   "cell_type": "markdown",
   "id": "b44c3da6",
   "metadata": {},
   "source": [
    "## AUTHOR\n",
    "CHHAVI"
   ]
  },
  {
   "cell_type": "code",
   "execution_count": null,
   "id": "5ddd4d65",
   "metadata": {},
   "outputs": [],
   "source": []
  }
 ],
 "metadata": {
  "kernelspec": {
   "display_name": "Python 3",
   "language": "python",
   "name": "python3"
  },
  "language_info": {
   "codemirror_mode": {
    "name": "ipython",
    "version": 3
   },
   "file_extension": ".py",
   "mimetype": "text/x-python",
   "name": "python",
   "nbconvert_exporter": "python",
   "pygments_lexer": "ipython3",
   "version": "3.8.8"
  }
 },
 "nbformat": 4,
 "nbformat_minor": 5
}
